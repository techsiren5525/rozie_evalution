{
 "cells": [
  {
   "cell_type": "code",
   "execution_count": null,
   "metadata": {},
   "outputs": [],
   "source": []
  },
  {
   "cell_type": "code",
   "execution_count": 1,
   "metadata": {},
   "outputs": [],
   "source": [
    "\n",
    "%matplotlib inline\n",
    "import numpy as np\n",
    "import pandas as pd\n",
    "import re\n",
    "import sklearn\n",
    "import matplotlib.pyplot as plt\n",
    "from sklearn.feature_extraction.text import CountVectorizer\n",
    "from sklearn.metrics import confusion_matrix\n",
    "from sklearn.model_selection import GridSearchCV\n",
    "from sklearn.model_selection import train_test_split\n",
    "from sklearn.model_selection import cross_val_score\n",
    "from sklearn.linear_model import LogisticRegression\n",
    "from sklearn.linear_model import SGDClassifier\n",
    "from sklearn.neural_network import MLPClassifier\n",
    "from sklearn.metrics import classification_report\n"
   ]
  },
  {
   "cell_type": "code",
   "execution_count": 2,
   "metadata": {},
   "outputs": [],
   "source": [
    "data = pd.read_csv(\"evalution_data_set.csv\")\n",
    "data.head()\n",
    "data = data.sample(frac=1).reset_index(drop=True)"
   ]
  },
  {
   "cell_type": "code",
   "execution_count": 3,
   "metadata": {},
   "outputs": [
    {
     "data": {
      "text/html": [
       "<div>\n",
       "<style scoped>\n",
       "    .dataframe tbody tr th:only-of-type {\n",
       "        vertical-align: middle;\n",
       "    }\n",
       "\n",
       "    .dataframe tbody tr th {\n",
       "        vertical-align: top;\n",
       "    }\n",
       "\n",
       "    .dataframe thead th {\n",
       "        text-align: right;\n",
       "    }\n",
       "</style>\n",
       "<table border=\"1\" class=\"dataframe\">\n",
       "  <thead>\n",
       "    <tr style=\"text-align: right;\">\n",
       "      <th></th>\n",
       "      <th>label</th>\n",
       "      <th>expression</th>\n",
       "      <th>statement</th>\n",
       "      <th>entities</th>\n",
       "    </tr>\n",
       "  </thead>\n",
       "  <tbody>\n",
       "    <tr>\n",
       "      <th>0</th>\n",
       "      <td>intent_flight_status</td>\n",
       "      <td>will you be able to check status on my flight ...</td>\n",
       "      <td>will you be able to check status on my flight ...</td>\n",
       "      <td>[{'span_start': 53, 'span_end': 56, 'entity_va...</td>\n",
       "    </tr>\n",
       "    <tr>\n",
       "      <th>1</th>\n",
       "      <td>intent_flight_status</td>\n",
       "      <td>please check status of my flight?</td>\n",
       "      <td>please check status of my flight?</td>\n",
       "      <td>[]</td>\n",
       "    </tr>\n",
       "    <tr>\n",
       "      <th>2</th>\n",
       "      <td>intent_flight_search</td>\n",
       "      <td>I want a flight from [Colombo](Departure.Airpo...</td>\n",
       "      <td>I want a flight from Colombo</td>\n",
       "      <td>[{'span_start': 21, 'span_end': 28, 'entity_va...</td>\n",
       "    </tr>\n",
       "    <tr>\n",
       "      <th>3</th>\n",
       "      <td>intent_flight_status</td>\n",
       "      <td>when does flight [214](FlightNumber|412|867|30...</td>\n",
       "      <td>when does flight 214 depart ?</td>\n",
       "      <td>[{'span_start': 17, 'span_end': 20, 'entity_va...</td>\n",
       "    </tr>\n",
       "    <tr>\n",
       "      <th>4</th>\n",
       "      <td>intent_flight_search</td>\n",
       "      <td>please help me to search for a flight</td>\n",
       "      <td>please help me to search for a flight</td>\n",
       "      <td>[]</td>\n",
       "    </tr>\n",
       "  </tbody>\n",
       "</table>\n",
       "</div>"
      ],
      "text/plain": [
       "                  label                                         expression  \\\n",
       "0  intent_flight_status  will you be able to check status on my flight ...   \n",
       "1  intent_flight_status                  please check status of my flight?   \n",
       "2  intent_flight_search  I want a flight from [Colombo](Departure.Airpo...   \n",
       "3  intent_flight_status  when does flight [214](FlightNumber|412|867|30...   \n",
       "4  intent_flight_search              please help me to search for a flight   \n",
       "\n",
       "                                           statement  \\\n",
       "0  will you be able to check status on my flight ...   \n",
       "1                  please check status of my flight?   \n",
       "2                       I want a flight from Colombo   \n",
       "3                      when does flight 214 depart ?   \n",
       "4              please help me to search for a flight   \n",
       "\n",
       "                                            entities  \n",
       "0  [{'span_start': 53, 'span_end': 56, 'entity_va...  \n",
       "1                                                 []  \n",
       "2  [{'span_start': 21, 'span_end': 28, 'entity_va...  \n",
       "3  [{'span_start': 17, 'span_end': 20, 'entity_va...  \n",
       "4                                                 []  "
      ]
     },
     "execution_count": 3,
     "metadata": {},
     "output_type": "execute_result"
    }
   ],
   "source": [
    "def _entity_string_to_dict(entity_string):\n",
    "    entity_extract_pattern = re.compile(r'(?P<entity>\\[(?P<value>.+?)\\]\\((?P<name_and_synonyms>.+?)\\))')\n",
    "    new_string = ''\n",
    "    start = 0\n",
    "    output = dict()\n",
    "    output['entities'] = []\n",
    "    for item in re.finditer(entity_extract_pattern, entity_string):\n",
    "        d = dict()\n",
    "        new_string += entity_string[start:item.start()]\n",
    "        start = item.start()\n",
    "        d['span_start'] = len(new_string)\n",
    "        new_string += item.group('value')\n",
    "        d['span_end'] = len(new_string)\n",
    "        start += len(item.group('entity'))\n",
    "        d['entity_value'] = item.group('value')\n",
    "\n",
    "        syn_items = item.group('name_and_synonyms').split('|')\n",
    "        d['entity_type'] = syn_items[0]\n",
    "        d['synonyms'] = list()\n",
    "        if len(syn_items) > 1:\n",
    "            d['synonyms'] += [t for t in syn_items[1:]]\n",
    "\n",
    "        output['entities'].append(d)\n",
    "    new_string += entity_string[start:]\n",
    "    output['statement'] = new_string\n",
    "    return output\n",
    "\n",
    "\n",
    "data['statement'] = data.apply(lambda x: _entity_string_to_dict(x['expression'])['statement'], axis=1)\n",
    "data['entities'] = data.apply(lambda x: _entity_string_to_dict(x['expression'])['entities'], axis=1)\n",
    "data.head()"
   ]
  },
  {
   "cell_type": "code",
   "execution_count": 4,
   "metadata": {},
   "outputs": [],
   "source": [
    "def simple_split(data,y,length,split_mark=0.7):\n",
    "    if split_mark > 0. and split_mark < 1.0:\n",
    "        n = int(split_mark*length)\n",
    "    else:\n",
    "        n = int(split_mark)\n",
    "    x_train = data[:n].copy()\n",
    "    x_test = data[n:].copy()\n",
    "    y_train = y[:n].copy()\n",
    "    y_test = y[n:].copy()\n",
    "    return x_train,x_test,y_train,y_test"
   ]
  },
  {
   "cell_type": "code",
   "execution_count": 5,
   "metadata": {},
   "outputs": [
    {
     "name": "stdout",
     "output_type": "stream",
     "text": [
      "(54,) (24,)\n"
     ]
    }
   ],
   "source": [
    "vectorizer = CountVectorizer()\n",
    "x_train,x_test,y_train,y_test = simple_split(data.statement,data.label,len(data))\n",
    "print(x_train.shape,x_test.shape)"
   ]
  },
  {
   "cell_type": "code",
   "execution_count": 6,
   "metadata": {},
   "outputs": [
    {
     "data": {
      "text/html": [
       "<div>\n",
       "<style scoped>\n",
       "    .dataframe tbody tr th:only-of-type {\n",
       "        vertical-align: middle;\n",
       "    }\n",
       "\n",
       "    .dataframe tbody tr th {\n",
       "        vertical-align: top;\n",
       "    }\n",
       "\n",
       "    .dataframe thead th {\n",
       "        text-align: right;\n",
       "    }\n",
       "</style>\n",
       "<table border=\"1\" class=\"dataframe\">\n",
       "  <thead>\n",
       "    <tr style=\"text-align: right;\">\n",
       "      <th></th>\n",
       "      <th>expression</th>\n",
       "      <th>statement</th>\n",
       "      <th>entities</th>\n",
       "    </tr>\n",
       "    <tr>\n",
       "      <th>label</th>\n",
       "      <th></th>\n",
       "      <th></th>\n",
       "      <th></th>\n",
       "    </tr>\n",
       "  </thead>\n",
       "  <tbody>\n",
       "    <tr>\n",
       "      <th>intent_flight_search</th>\n",
       "      <td>25</td>\n",
       "      <td>25</td>\n",
       "      <td>25</td>\n",
       "    </tr>\n",
       "    <tr>\n",
       "      <th>intent_flight_status</th>\n",
       "      <td>28</td>\n",
       "      <td>28</td>\n",
       "      <td>28</td>\n",
       "    </tr>\n",
       "    <tr>\n",
       "      <th>intent_provide_flight_info</th>\n",
       "      <td>25</td>\n",
       "      <td>25</td>\n",
       "      <td>25</td>\n",
       "    </tr>\n",
       "  </tbody>\n",
       "</table>\n",
       "</div>"
      ],
      "text/plain": [
       "                            expression  statement  entities\n",
       "label                                                      \n",
       "intent_flight_search                25         25        25\n",
       "intent_flight_status                28         28        28\n",
       "intent_provide_flight_info          25         25        25"
      ]
     },
     "execution_count": 6,
     "metadata": {},
     "output_type": "execute_result"
    }
   ],
   "source": [
    "data.groupby('label').count()"
   ]
  },
  {
   "cell_type": "code",
   "execution_count": 7,
   "metadata": {},
   "outputs": [],
   "source": [
    "x_train = vectorizer.fit_transform(x_train)\n",
    "x_test = vectorizer.transform(x_test)"
   ]
  },
  {
   "cell_type": "code",
   "execution_count": 8,
   "metadata": {},
   "outputs": [
    {
     "name": "stdout",
     "output_type": "stream",
     "text": [
      "Number of features: 92\n",
      "Number of features: ['100', '12th', '176', '214', '234', '296', '400', '412', '417', '451', '456', '501', '562', '571', '581', '613', '688', '751', '762', '781', '944', '967', 'able', 'about', 'airport', 'airportcode', 'are', 'be', 'calgary', 'can', 'check', 'cmb', 'colombo', 'depart', 'departe', 'departing', 'departure', 'does', 'dubai', 'find', 'flight', 'flightnumber', 'flights', 'flying', 'fo', 'for', 'fran', 'francisco', 'fransisco', 'friday', 'from', 'going', 'heathrow', 'help', 'how', 'is', 'jfk', 'june', 'lax', 'leave', 'leaving', 'me', 'monday', 'my', 'need', 'next', 'number', 'of', 'on', 'ontime', 'our', 'planning', 'please', 'san', 'search', 'sfo', 'slc', 'status', 'sunday', 'tell']\n"
     ]
    }
   ],
   "source": [
    "feature_names = vectorizer.get_feature_names()\n",
    "print(\"Number of features: {}\".format(len(feature_names)))\n",
    "print(\"Number of features: {}\".format(feature_names[:80]))"
   ]
  },
  {
   "cell_type": "code",
   "execution_count": 9,
   "metadata": {},
   "outputs": [
    {
     "data": {
      "text/plain": [
       "{'will': 89,\n",
       " 'you': 90,\n",
       " 'be': 27,\n",
       " 'able': 22,\n",
       " 'to': 82,\n",
       " 'check': 30,\n",
       " 'status': 77,\n",
       " 'on': 68,\n",
       " 'my': 63,\n",
       " 'flight': 40,\n",
       " 'number': 66,\n",
       " '571': 13,\n",
       " 'leaving': 60,\n",
       " 'today': 83,\n",
       " 'from': 50,\n",
       " 'jfk': 56,\n",
       " 'airport': 24,\n",
       " 'please': 72,\n",
       " 'of': 67,\n",
       " 'want': 85,\n",
       " 'colombo': 32,\n",
       " 'when': 88,\n",
       " 'does': 37,\n",
       " '214': 3,\n",
       " 'depart': 33,\n",
       " 'help': 53,\n",
       " 'me': 61,\n",
       " 'search': 74,\n",
       " 'for': 45,\n",
       " 'can': 29,\n",
       " 'find': 39,\n",
       " 'we': 86,\n",
       " 'were': 87,\n",
       " 'flying': 43,\n",
       " '688': 16,\n",
       " 'leave': 59,\n",
       " 'slc': 76,\n",
       " 'time': 81,\n",
       " 'are': 26,\n",
       " '12th': 1,\n",
       " 'june': 57,\n",
       " 'dubai': 38,\n",
       " 'yyz': 91,\n",
       " '412': 7,\n",
       " 'flights': 42,\n",
       " 'tomorrow': 84,\n",
       " 'need': 64,\n",
       " 'the': 80,\n",
       " 'next': 65,\n",
       " '234': 4,\n",
       " 'calgary': 28,\n",
       " '100': 0,\n",
       " 'sfo': 75,\n",
       " 'departing': 35,\n",
       " 'planning': 71,\n",
       " 'sunday': 78,\n",
       " 'lax': 58,\n",
       " 'is': 55,\n",
       " 'ontime': 69,\n",
       " 'cmb': 31,\n",
       " '456': 10,\n",
       " '781': 19,\n",
       " '944': 20,\n",
       " 'departure': 36,\n",
       " 'departe': 34,\n",
       " 'fo': 44,\n",
       " '581': 14,\n",
       " '451': 9,\n",
       " 'going': 51,\n",
       " '400': 6,\n",
       " '562': 12,\n",
       " '501': 11,\n",
       " 'monday': 62,\n",
       " 'tell': 79,\n",
       " '762': 18,\n",
       " 'flightnumber': 41,\n",
       " '751': 17,\n",
       " '613': 15,\n",
       " '967': 21,\n",
       " '296': 5,\n",
       " '176': 2,\n",
       " 'how': 54,\n",
       " 'about': 23,\n",
       " 'our': 70,\n",
       " 'heathrow': 52,\n",
       " 'airportcode': 25,\n",
       " 'san': 73,\n",
       " 'fran': 46,\n",
       " 'francisco': 47,\n",
       " 'fransisco': 48,\n",
       " 'friday': 49,\n",
       " '417': 8}"
      ]
     },
     "execution_count": 9,
     "metadata": {},
     "output_type": "execute_result"
    }
   ],
   "source": [
    "vectorizer.vocabulary_"
   ]
  },
  {
   "cell_type": "code",
   "execution_count": 10,
   "metadata": {},
   "outputs": [
    {
     "name": "stdout",
     "output_type": "stream",
     "text": [
      "Mean cross validation accuracy: 0.92\n"
     ]
    }
   ],
   "source": [
    "scores = cross_val_score(LogisticRegression( max_iter=100),vectorizer.transform(data.statement),data.label,cv=5)\n",
    "print(\"Mean cross validation accuracy: {:.2f}\".format(np.mean(scores)))"
   ]
  },
  {
   "cell_type": "code",
   "execution_count": 11,
   "metadata": {},
   "outputs": [
    {
     "name": "stdout",
     "output_type": "stream",
     "text": [
      "Training set score: 1.000\n",
      "Testing set score: 0.875\n"
     ]
    }
   ],
   "source": [
    "logreg = LogisticRegression(max_iter=1000)\n",
    "logreg.fit(x_train,y_train)\n",
    "print(\"Training set score: {:.3f}\".format(logreg.score(x_train,y_train)))\n",
    "print(\"Testing set score: {:.3f}\".format(logreg.score(x_test,y_test)))"
   ]
  },
  {
   "cell_type": "code",
   "execution_count": 12,
   "metadata": {},
   "outputs": [],
   "source": [
    " \n",
    "sorted_labels = sorted(\n",
    "    data.label.unique(), \n",
    "    key=lambda name: (name[1:], name[0])\n",
    ")"
   ]
  },
  {
   "cell_type": "code",
   "execution_count": 13,
   "metadata": {},
   "outputs": [
    {
     "name": "stdout",
     "output_type": "stream",
     "text": [
      "Confusion matrix:\n",
      " \n"
     ]
    },
    {
     "data": {
      "text/html": [
       "<div>\n",
       "<style scoped>\n",
       "    .dataframe tbody tr th:only-of-type {\n",
       "        vertical-align: middle;\n",
       "    }\n",
       "\n",
       "    .dataframe tbody tr th {\n",
       "        vertical-align: top;\n",
       "    }\n",
       "\n",
       "    .dataframe thead tr th {\n",
       "        text-align: left;\n",
       "    }\n",
       "</style>\n",
       "<table border=\"1\" class=\"dataframe\">\n",
       "  <thead>\n",
       "    <tr>\n",
       "      <th></th>\n",
       "      <th colspan=\"3\" halign=\"left\">Predicted label</th>\n",
       "    </tr>\n",
       "    <tr>\n",
       "      <th>Actual label</th>\n",
       "      <th>intent_flight_search</th>\n",
       "      <th>intent_flight_status</th>\n",
       "      <th>intent_provide_flight_info</th>\n",
       "    </tr>\n",
       "  </thead>\n",
       "  <tbody>\n",
       "    <tr>\n",
       "      <th>intent_flight_search</th>\n",
       "      <td>9</td>\n",
       "      <td>0</td>\n",
       "      <td>0</td>\n",
       "    </tr>\n",
       "    <tr>\n",
       "      <th>intent_flight_status</th>\n",
       "      <td>0</td>\n",
       "      <td>7</td>\n",
       "      <td>0</td>\n",
       "    </tr>\n",
       "    <tr>\n",
       "      <th>intent_provide_flight_info</th>\n",
       "      <td>1</td>\n",
       "      <td>2</td>\n",
       "      <td>5</td>\n",
       "    </tr>\n",
       "  </tbody>\n",
       "</table>\n",
       "</div>"
      ],
      "text/plain": [
       "                                Predicted label                       \\\n",
       "Actual label               intent_flight_search intent_flight_status   \n",
       "intent_flight_search                          9                    0   \n",
       "intent_flight_status                          0                    7   \n",
       "intent_provide_flight_info                    1                    2   \n",
       "\n",
       "                                                       \n",
       "Actual label               intent_provide_flight_info  \n",
       "intent_flight_search                                0  \n",
       "intent_flight_status                                0  \n",
       "intent_provide_flight_info                          5  "
      ]
     },
     "execution_count": 13,
     "metadata": {},
     "output_type": "execute_result"
    }
   ],
   "source": [
    "pred_logreg = logreg.predict(x_test)\n",
    "confusion_logreg = confusion_matrix(y_test,pred_logreg)\n",
    "print(\"Confusion matrix:\\n \")\n",
    "\n",
    "header = pd.MultiIndex.from_product([['Predicted label'],\n",
    "                                     sorted_labels],names=['','Actual label'])\n",
    "confusion_mtrix_df =  pd.DataFrame(confusion_logreg,index=sorted_labels, \n",
    "                  columns=header)\n",
    "confusion_mtrix_df"
   ]
  },
  {
   "cell_type": "code",
   "execution_count": 14,
   "metadata": {},
   "outputs": [
    {
     "name": "stdout",
     "output_type": "stream",
     "text": [
      "prediction:\n",
      " ['intent_flight_search' 'intent_provide_flight_info'\n",
      " 'intent_flight_status']\n"
     ]
    }
   ],
   "source": [
    "ans = logreg.predict(vectorizer.transform([\"can you help me to find a flight ?\",\"we are leaving from San Francisco\",\"how about the status of our flight departing from next Friday)\"]))\n",
    "print(\"prediction:\\n {}\".format(ans))"
   ]
  },
  {
   "cell_type": "code",
   "execution_count": 15,
   "metadata": {},
   "outputs": [
    {
     "name": "stdout",
     "output_type": "stream",
     "text": [
      "                            precision    recall  f1-score   support\n",
      "\n",
      "      intent_flight_search       0.90      1.00      0.95         9\n",
      "      intent_flight_status       0.78      1.00      0.88         7\n",
      "intent_provide_flight_info       1.00      0.62      0.77         8\n",
      "\n",
      "                  accuracy                           0.88        24\n",
      "                 macro avg       0.89      0.88      0.86        24\n",
      "              weighted avg       0.90      0.88      0.87        24\n",
      "\n"
     ]
    }
   ],
   "source": [
    "print(classification_report(y_test, pred_logreg, target_names=sorted_labels))"
   ]
  },
  {
   "cell_type": "code",
   "execution_count": 16,
   "metadata": {},
   "outputs": [
    {
     "name": "stdout",
     "output_type": "stream",
     "text": [
      "Mean cross validation accuracy: 0.87\n"
     ]
    }
   ],
   "source": [
    "scores = cross_val_score(SGDClassifier(loss=\"hinge\", penalty=\"l2\", max_iter=1000),vectorizer.transform(data.statement),data.label,cv=5)\n",
    "print(\"Mean cross validation accuracy: {:.2f}\".format(np.mean(scores)))"
   ]
  },
  {
   "cell_type": "code",
   "execution_count": 17,
   "metadata": {},
   "outputs": [
    {
     "name": "stdout",
     "output_type": "stream",
     "text": [
      "Training set score: 1.000\n",
      "Testing set score: 0.917\n"
     ]
    }
   ],
   "source": [
    "clf = SGDClassifier(loss=\"hinge\", penalty=\"l2\", max_iter=1000)\n",
    "clf.fit(x_train,y_train)\n",
    "print(\"Training set score: {:.3f}\".format(clf.score(x_train,y_train)))\n",
    "print(\"Testing set score: {:.3f}\".format(clf.score(x_test,y_test)))"
   ]
  },
  {
   "cell_type": "code",
   "execution_count": 18,
   "metadata": {},
   "outputs": [
    {
     "name": "stdout",
     "output_type": "stream",
     "text": [
      "Confusion matrix:\n",
      "\n"
     ]
    },
    {
     "data": {
      "text/html": [
       "<div>\n",
       "<style scoped>\n",
       "    .dataframe tbody tr th:only-of-type {\n",
       "        vertical-align: middle;\n",
       "    }\n",
       "\n",
       "    .dataframe tbody tr th {\n",
       "        vertical-align: top;\n",
       "    }\n",
       "\n",
       "    .dataframe thead tr th {\n",
       "        text-align: left;\n",
       "    }\n",
       "</style>\n",
       "<table border=\"1\" class=\"dataframe\">\n",
       "  <thead>\n",
       "    <tr>\n",
       "      <th></th>\n",
       "      <th colspan=\"3\" halign=\"left\">Predicted label</th>\n",
       "    </tr>\n",
       "    <tr>\n",
       "      <th>Actual label</th>\n",
       "      <th>intent_flight_search</th>\n",
       "      <th>intent_flight_status</th>\n",
       "      <th>intent_provide_flight_info</th>\n",
       "    </tr>\n",
       "  </thead>\n",
       "  <tbody>\n",
       "    <tr>\n",
       "      <th>intent_flight_search</th>\n",
       "      <td>8</td>\n",
       "      <td>0</td>\n",
       "      <td>1</td>\n",
       "    </tr>\n",
       "    <tr>\n",
       "      <th>intent_flight_status</th>\n",
       "      <td>0</td>\n",
       "      <td>7</td>\n",
       "      <td>0</td>\n",
       "    </tr>\n",
       "    <tr>\n",
       "      <th>intent_provide_flight_info</th>\n",
       "      <td>1</td>\n",
       "      <td>0</td>\n",
       "      <td>7</td>\n",
       "    </tr>\n",
       "  </tbody>\n",
       "</table>\n",
       "</div>"
      ],
      "text/plain": [
       "                                Predicted label                       \\\n",
       "Actual label               intent_flight_search intent_flight_status   \n",
       "intent_flight_search                          8                    0   \n",
       "intent_flight_status                          0                    7   \n",
       "intent_provide_flight_info                    1                    0   \n",
       "\n",
       "                                                       \n",
       "Actual label               intent_provide_flight_info  \n",
       "intent_flight_search                                1  \n",
       "intent_flight_status                                0  \n",
       "intent_provide_flight_info                          7  "
      ]
     },
     "execution_count": 18,
     "metadata": {},
     "output_type": "execute_result"
    }
   ],
   "source": [
    "pred_sgd = clf.predict(x_test)\n",
    "confusion_sgd = confusion_matrix(y_test,pred_sgd)\n",
    "print(\"Confusion matrix:\\n\")\n",
    "\n",
    "header = pd.MultiIndex.from_product([['Predicted label'],\n",
    "                                     sorted_labels],names=['','Actual label'])\n",
    "confusion_mtrix_df =  pd.DataFrame(confusion_sgd,index=sorted_labels, \n",
    "                  columns=header)\n",
    "confusion_mtrix_df"
   ]
  },
  {
   "cell_type": "code",
   "execution_count": 19,
   "metadata": {},
   "outputs": [
    {
     "name": "stdout",
     "output_type": "stream",
     "text": [
      "                            precision    recall  f1-score   support\n",
      "\n",
      "      intent_flight_search       0.89      0.89      0.89         9\n",
      "      intent_flight_status       1.00      1.00      1.00         7\n",
      "intent_provide_flight_info       0.88      0.88      0.88         8\n",
      "\n",
      "                  accuracy                           0.92        24\n",
      "                 macro avg       0.92      0.92      0.92        24\n",
      "              weighted avg       0.92      0.92      0.92        24\n",
      "\n"
     ]
    }
   ],
   "source": [
    "print(classification_report(y_test, pred_sgd, target_names=sorted_labels))"
   ]
  },
  {
   "cell_type": "code",
   "execution_count": 20,
   "metadata": {},
   "outputs": [
    {
     "name": "stdout",
     "output_type": "stream",
     "text": [
      "Mean cross validation accuracy: 0.87\n"
     ]
    }
   ],
   "source": [
    "scores = cross_val_score(MLPClassifier(random_state=1, max_iter=1000),vectorizer.transform(data.statement),data.label,cv=5)\n",
    "print(\"Mean cross validation accuracy: {:.2f}\".format(np.mean(scores)))"
   ]
  },
  {
   "cell_type": "code",
   "execution_count": 21,
   "metadata": {},
   "outputs": [
    {
     "name": "stdout",
     "output_type": "stream",
     "text": [
      "Training set score: 1.000\n",
      "Testing set score: 0.833\n",
      "Confusion matrix:\n",
      "\n"
     ]
    },
    {
     "data": {
      "text/html": [
       "<div>\n",
       "<style scoped>\n",
       "    .dataframe tbody tr th:only-of-type {\n",
       "        vertical-align: middle;\n",
       "    }\n",
       "\n",
       "    .dataframe tbody tr th {\n",
       "        vertical-align: top;\n",
       "    }\n",
       "\n",
       "    .dataframe thead tr th {\n",
       "        text-align: left;\n",
       "    }\n",
       "</style>\n",
       "<table border=\"1\" class=\"dataframe\">\n",
       "  <thead>\n",
       "    <tr>\n",
       "      <th></th>\n",
       "      <th colspan=\"3\" halign=\"left\">Predicted label</th>\n",
       "    </tr>\n",
       "    <tr>\n",
       "      <th>Actual label</th>\n",
       "      <th>intent_flight_search</th>\n",
       "      <th>intent_flight_status</th>\n",
       "      <th>intent_provide_flight_info</th>\n",
       "    </tr>\n",
       "  </thead>\n",
       "  <tbody>\n",
       "    <tr>\n",
       "      <th>intent_flight_search</th>\n",
       "      <td>9</td>\n",
       "      <td>0</td>\n",
       "      <td>0</td>\n",
       "    </tr>\n",
       "    <tr>\n",
       "      <th>intent_flight_status</th>\n",
       "      <td>0</td>\n",
       "      <td>6</td>\n",
       "      <td>1</td>\n",
       "    </tr>\n",
       "    <tr>\n",
       "      <th>intent_provide_flight_info</th>\n",
       "      <td>1</td>\n",
       "      <td>2</td>\n",
       "      <td>5</td>\n",
       "    </tr>\n",
       "  </tbody>\n",
       "</table>\n",
       "</div>"
      ],
      "text/plain": [
       "                                Predicted label                       \\\n",
       "Actual label               intent_flight_search intent_flight_status   \n",
       "intent_flight_search                          9                    0   \n",
       "intent_flight_status                          0                    6   \n",
       "intent_provide_flight_info                    1                    2   \n",
       "\n",
       "                                                       \n",
       "Actual label               intent_provide_flight_info  \n",
       "intent_flight_search                                0  \n",
       "intent_flight_status                                1  \n",
       "intent_provide_flight_info                          5  "
      ]
     },
     "execution_count": 21,
     "metadata": {},
     "output_type": "execute_result"
    }
   ],
   "source": [
    "mlp = MLPClassifier(random_state=1, max_iter=500)\n",
    "mlp.fit(x_train,y_train)\n",
    "print(\"Training set score: {:.3f}\".format(mlp.score(x_train,y_train)))\n",
    "print(\"Testing set score: {:.3f}\".format(mlp.score(x_test,y_test)))\n",
    "\n",
    "\n",
    "pred_mlp = mlp.predict(x_test)\n",
    "confusion_mlp = confusion_matrix(y_test,pred_mlp)\n",
    "print(\"Confusion matrix:\\n\")\n",
    "\n",
    "header = pd.MultiIndex.from_product([['Predicted label'],\n",
    "                                     sorted_labels],names=['','Actual label'])\n",
    "confusion_mtrix_df =  pd.DataFrame(confusion_mlp,index=sorted_labels, \n",
    "                  columns=header)\n",
    "confusion_mtrix_df"
   ]
  },
  {
   "cell_type": "code",
   "execution_count": 22,
   "metadata": {},
   "outputs": [
    {
     "name": "stdout",
     "output_type": "stream",
     "text": [
      "                            precision    recall  f1-score   support\n",
      "\n",
      "      intent_flight_search       0.90      1.00      0.95         9\n",
      "      intent_flight_status       0.75      0.86      0.80         7\n",
      "intent_provide_flight_info       0.83      0.62      0.71         8\n",
      "\n",
      "                  accuracy                           0.83        24\n",
      "                 macro avg       0.83      0.83      0.82        24\n",
      "              weighted avg       0.83      0.83      0.83        24\n",
      "\n"
     ]
    }
   ],
   "source": [
    "print(classification_report(y_test, pred_mlp, target_names=sorted_labels))"
   ]
  },
  {
   "cell_type": "code",
   "execution_count": null,
   "metadata": {},
   "outputs": [],
   "source": []
  },
  {
   "cell_type": "code",
   "execution_count": null,
   "metadata": {},
   "outputs": [],
   "source": []
  }
 ],
 "metadata": {
  "kernelspec": {
   "display_name": "Python 3",
   "language": "python",
   "name": "python3"
  },
  "language_info": {
   "codemirror_mode": {
    "name": "ipython",
    "version": 3
   },
   "file_extension": ".py",
   "mimetype": "text/x-python",
   "name": "python",
   "nbconvert_exporter": "python",
   "pygments_lexer": "ipython3",
   "version": "3.8.5"
  }
 },
 "nbformat": 4,
 "nbformat_minor": 4
}
